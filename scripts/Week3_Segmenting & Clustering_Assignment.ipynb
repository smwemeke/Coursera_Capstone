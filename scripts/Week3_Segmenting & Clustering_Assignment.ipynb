{
 "cells": [
  {
   "cell_type": "markdown",
   "metadata": {},
   "source": [
    "# Week 3 Assignment Solutions"
   ]
  },
  {
   "cell_type": "markdown",
   "metadata": {},
   "source": [
    "### Question 1: Obtain the data in the table of postal codes and to transform the data into a pandas dataframe "
   ]
  },
  {
   "cell_type": "code",
   "execution_count": 1,
   "metadata": {},
   "outputs": [],
   "source": [
    "# import the library we use to open URLS & specify which URL/web page we are going to be scraping\n",
    "#from urllib.request import urlopen\n",
    "import urllib.request\n",
    "url = \"https://en.wikipedia.org/wiki/List_of_postal_codes_of_Canada:_M\""
   ]
  },
  {
   "cell_type": "code",
   "execution_count": 2,
   "metadata": {},
   "outputs": [],
   "source": [
    "# open the url using urllib.request and put the HTML into the page variable\n",
    "page = urllib.request.urlopen(url)"
   ]
  },
  {
   "cell_type": "code",
   "execution_count": 3,
   "metadata": {},
   "outputs": [],
   "source": [
    "# import the BeautifulSoup library so we can parse the HTML from our URL into the BeautifulSoup parse tree format\n",
    "from bs4 import BeautifulSoup \n",
    "soup = BeautifulSoup(page, \"lxml\")"
   ]
  },
  {
   "cell_type": "code",
   "execution_count": 4,
   "metadata": {},
   "outputs": [],
   "source": [
    "# use the 'find_all' function to bring back all instances of the 'table' tag in\n",
    "all_tables=soup.find_all(\"table\")"
   ]
  },
  {
   "cell_type": "code",
   "execution_count": 5,
   "metadata": {
    "scrolled": false
   },
   "outputs": [],
   "source": [
    "right_table=soup.find('table', class_='wikitable sortable')"
   ]
  },
  {
   "cell_type": "code",
   "execution_count": 6,
   "metadata": {},
   "outputs": [],
   "source": [
    "P=[]\n",
    "B=[]\n",
    "N=[]\n",
    "\n",
    "for row in right_table.find_all('tr'):\n",
    "   # cells = row.replace('\\n', '')\n",
    "    cells=row.find_all('td')\n",
    "    \n",
    "    if len(cells)==3 and cells[1].find(text = True) != 'Not assigned':\n",
    "        P.append(cells[0].find(text=True))\n",
    "        B.append(cells[1].find(text=True))\n",
    "        N.append(cells[2].find(text=True))"
   ]
  },
  {
   "cell_type": "code",
   "execution_count": 7,
   "metadata": {},
   "outputs": [],
   "source": [
    "import pandas as pd\n",
    "df =pd.DataFrame(P,columns=['Postal Code'])\n",
    "df['Borough']= B\n",
    "df['Neighbourhood'] = N"
   ]
  },
  {
   "cell_type": "markdown",
   "metadata": {},
   "source": [
    "#### Clean the data"
   ]
  },
  {
   "cell_type": "code",
   "execution_count": 13,
   "metadata": {},
   "outputs": [],
   "source": [
    "# Remove the Not Assigned attributes in Borough\n",
    "index=df[df['Borough']== 'Not assigned'].index\n",
    "df.drop(index, inplace=True)\n",
    "df.reset_index(drop = True, inplace = True)\n",
    "df = df.replace('\\n','', regex=True)"
   ]
  },
  {
   "cell_type": "markdown",
   "metadata": {},
   "source": [
    "Borough but a Not assigned neighborhood, then the neighborhood will be the same as the borough"
   ]
  },
  {
   "cell_type": "code",
   "execution_count": 14,
   "metadata": {},
   "outputs": [],
   "source": [
    "df['Neighbourhood']=df['Neighbourhood'].replace('Not assigned', df['Borough'])"
   ]
  },
  {
   "cell_type": "markdown",
   "metadata": {},
   "source": [
    "### Question 2: Used the .shape method to print the number of rows of your dataframe"
   ]
  },
  {
   "cell_type": "code",
   "execution_count": 15,
   "metadata": {},
   "outputs": [
    {
     "name": "stdout",
     "output_type": "stream",
     "text": [
      "(103, 3)\n"
     ]
    },
    {
     "data": {
      "text/html": [
       "<div>\n",
       "<style scoped>\n",
       "    .dataframe tbody tr th:only-of-type {\n",
       "        vertical-align: middle;\n",
       "    }\n",
       "\n",
       "    .dataframe tbody tr th {\n",
       "        vertical-align: top;\n",
       "    }\n",
       "\n",
       "    .dataframe thead th {\n",
       "        text-align: right;\n",
       "    }\n",
       "</style>\n",
       "<table border=\"1\" class=\"dataframe\">\n",
       "  <thead>\n",
       "    <tr style=\"text-align: right;\">\n",
       "      <th></th>\n",
       "      <th>Postal Code</th>\n",
       "      <th>Borough</th>\n",
       "      <th>Neighbourhood</th>\n",
       "    </tr>\n",
       "  </thead>\n",
       "  <tbody>\n",
       "    <tr>\n",
       "      <th>0</th>\n",
       "      <td>M3A</td>\n",
       "      <td>North York</td>\n",
       "      <td>Parkwoods</td>\n",
       "    </tr>\n",
       "    <tr>\n",
       "      <th>1</th>\n",
       "      <td>M4A</td>\n",
       "      <td>North York</td>\n",
       "      <td>Victoria Village</td>\n",
       "    </tr>\n",
       "    <tr>\n",
       "      <th>2</th>\n",
       "      <td>M5A</td>\n",
       "      <td>Downtown Toronto</td>\n",
       "      <td>Regent Park, Harbourfront</td>\n",
       "    </tr>\n",
       "    <tr>\n",
       "      <th>3</th>\n",
       "      <td>M6A</td>\n",
       "      <td>North York</td>\n",
       "      <td>Lawrence Manor, Lawrence Heights</td>\n",
       "    </tr>\n",
       "    <tr>\n",
       "      <th>4</th>\n",
       "      <td>M7A</td>\n",
       "      <td>Downtown Toronto</td>\n",
       "      <td>Queen's Park, Ontario Provincial Government</td>\n",
       "    </tr>\n",
       "    <tr>\n",
       "      <th>5</th>\n",
       "      <td>M9A</td>\n",
       "      <td>Etobicoke</td>\n",
       "      <td>Islington Avenue, Humber Valley Village</td>\n",
       "    </tr>\n",
       "    <tr>\n",
       "      <th>6</th>\n",
       "      <td>M1B</td>\n",
       "      <td>Scarborough</td>\n",
       "      <td>Malvern, Rouge</td>\n",
       "    </tr>\n",
       "    <tr>\n",
       "      <th>7</th>\n",
       "      <td>M3B</td>\n",
       "      <td>North York</td>\n",
       "      <td>Don Mills</td>\n",
       "    </tr>\n",
       "    <tr>\n",
       "      <th>8</th>\n",
       "      <td>M4B</td>\n",
       "      <td>East York</td>\n",
       "      <td>Parkview Hill, Woodbine Gardens</td>\n",
       "    </tr>\n",
       "    <tr>\n",
       "      <th>9</th>\n",
       "      <td>M5B</td>\n",
       "      <td>Downtown Toronto</td>\n",
       "      <td>Garden District, Ryerson</td>\n",
       "    </tr>\n",
       "    <tr>\n",
       "      <th>10</th>\n",
       "      <td>M6B</td>\n",
       "      <td>North York</td>\n",
       "      <td>Glencairn</td>\n",
       "    </tr>\n",
       "    <tr>\n",
       "      <th>11</th>\n",
       "      <td>M9B</td>\n",
       "      <td>Etobicoke</td>\n",
       "      <td>West Deane Park, Princess Gardens, Martin Grov...</td>\n",
       "    </tr>\n",
       "  </tbody>\n",
       "</table>\n",
       "</div>"
      ],
      "text/plain": [
       "   Postal Code           Borough  \\\n",
       "0          M3A        North York   \n",
       "1          M4A        North York   \n",
       "2          M5A  Downtown Toronto   \n",
       "3          M6A        North York   \n",
       "4          M7A  Downtown Toronto   \n",
       "5          M9A         Etobicoke   \n",
       "6          M1B       Scarborough   \n",
       "7          M3B        North York   \n",
       "8          M4B         East York   \n",
       "9          M5B  Downtown Toronto   \n",
       "10         M6B        North York   \n",
       "11         M9B         Etobicoke   \n",
       "\n",
       "                                        Neighbourhood  \n",
       "0                                           Parkwoods  \n",
       "1                                    Victoria Village  \n",
       "2                           Regent Park, Harbourfront  \n",
       "3                    Lawrence Manor, Lawrence Heights  \n",
       "4         Queen's Park, Ontario Provincial Government  \n",
       "5             Islington Avenue, Humber Valley Village  \n",
       "6                                      Malvern, Rouge  \n",
       "7                                           Don Mills  \n",
       "8                     Parkview Hill, Woodbine Gardens  \n",
       "9                            Garden District, Ryerson  \n",
       "10                                          Glencairn  \n",
       "11  West Deane Park, Princess Gardens, Martin Grov...  "
      ]
     },
     "execution_count": 15,
     "metadata": {},
     "output_type": "execute_result"
    }
   ],
   "source": [
    "print(df.shape)\n",
    "df.head(12)"
   ]
  },
  {
   "cell_type": "markdown",
   "metadata": {},
   "source": [
    "#### Use the Geocoder package or the csv file to create dataframe"
   ]
  },
  {
   "cell_type": "code",
   "execution_count": 16,
   "metadata": {},
   "outputs": [
    {
     "name": "stdout",
     "output_type": "stream",
     "text": [
      "Requirement already satisfied: geocoder in c:\\programdata\\anaconda3\\lib\\site-packages (1.38.1)\n",
      "Requirement already satisfied: six in c:\\programdata\\anaconda3\\lib\\site-packages (from geocoder) (1.14.0)\n",
      "Requirement already satisfied: requests in c:\\programdata\\anaconda3\\lib\\site-packages (from geocoder) (2.23.0)\n",
      "Requirement already satisfied: future in c:\\programdata\\anaconda3\\lib\\site-packages (from geocoder) (0.18.2)\n",
      "Requirement already satisfied: click in c:\\programdata\\anaconda3\\lib\\site-packages (from geocoder) (7.1.2)\n",
      "Requirement already satisfied: ratelim in c:\\programdata\\anaconda3\\lib\\site-packages (from geocoder) (0.1.6)\n",
      "Requirement already satisfied: urllib3!=1.25.0,!=1.25.1,<1.26,>=1.21.1 in c:\\programdata\\anaconda3\\lib\\site-packages (from requests->geocoder) (1.25.8)\n",
      "Requirement already satisfied: certifi>=2017.4.17 in c:\\programdata\\anaconda3\\lib\\site-packages (from requests->geocoder) (2020.4.5.1)\n",
      "Requirement already satisfied: idna<3,>=2.5 in c:\\programdata\\anaconda3\\lib\\site-packages (from requests->geocoder) (2.9)\n",
      "Requirement already satisfied: chardet<4,>=3.0.2 in c:\\programdata\\anaconda3\\lib\\site-packages (from requests->geocoder) (3.0.4)\n",
      "Requirement already satisfied: decorator in c:\\programdata\\anaconda3\\lib\\site-packages (from ratelim->geocoder) (4.4.2)\n"
     ]
    }
   ],
   "source": [
    "#Install geopy\n",
    "!pip install geocoder"
   ]
  },
  {
   "cell_type": "code",
   "execution_count": 17,
   "metadata": {},
   "outputs": [
    {
     "name": "stdout",
     "output_type": "stream",
     "text": [
      "    Postal Code   Latitude  Longitude\n",
      "0           M1B  43.806686 -79.194353\n",
      "1           M1C  43.784535 -79.160497\n",
      "2           M1E  43.763573 -79.188711\n",
      "3           M1G  43.770992 -79.216917\n",
      "4           M1H  43.773136 -79.239476\n",
      "..          ...        ...        ...\n",
      "98          M9N  43.706876 -79.518188\n",
      "99          M9P  43.696319 -79.532242\n",
      "100         M9R  43.688905 -79.554724\n",
      "101         M9V  43.739416 -79.588437\n",
      "102         M9W  43.706748 -79.594054\n",
      "\n",
      "[103 rows x 3 columns]\n"
     ]
    }
   ],
   "source": [
    "import pandas as pd\n",
    "geo_df = pd.read_csv (r'C:\\Users\\smwemeke\\Desktop\\Geospatial_Coordinates.csv', header=0)\n",
    "print (geo_df)"
   ]
  },
  {
   "cell_type": "markdown",
   "metadata": {},
   "source": [
    "#### Merge the 2 dataframes"
   ]
  },
  {
   "cell_type": "code",
   "execution_count": 18,
   "metadata": {},
   "outputs": [
    {
     "data": {
      "text/html": [
       "<div>\n",
       "<style scoped>\n",
       "    .dataframe tbody tr th:only-of-type {\n",
       "        vertical-align: middle;\n",
       "    }\n",
       "\n",
       "    .dataframe tbody tr th {\n",
       "        vertical-align: top;\n",
       "    }\n",
       "\n",
       "    .dataframe thead th {\n",
       "        text-align: right;\n",
       "    }\n",
       "</style>\n",
       "<table border=\"1\" class=\"dataframe\">\n",
       "  <thead>\n",
       "    <tr style=\"text-align: right;\">\n",
       "      <th></th>\n",
       "      <th>Postal Code</th>\n",
       "      <th>Borough</th>\n",
       "      <th>Neighbourhood</th>\n",
       "      <th>Latitude</th>\n",
       "      <th>Longitude</th>\n",
       "    </tr>\n",
       "  </thead>\n",
       "  <tbody>\n",
       "    <tr>\n",
       "      <th>0</th>\n",
       "      <td>M3A</td>\n",
       "      <td>North York</td>\n",
       "      <td>Parkwoods</td>\n",
       "      <td>43.753259</td>\n",
       "      <td>-79.329656</td>\n",
       "    </tr>\n",
       "    <tr>\n",
       "      <th>1</th>\n",
       "      <td>M4A</td>\n",
       "      <td>North York</td>\n",
       "      <td>Victoria Village</td>\n",
       "      <td>43.725882</td>\n",
       "      <td>-79.315572</td>\n",
       "    </tr>\n",
       "    <tr>\n",
       "      <th>2</th>\n",
       "      <td>M5A</td>\n",
       "      <td>Downtown Toronto</td>\n",
       "      <td>Regent Park, Harbourfront</td>\n",
       "      <td>43.654260</td>\n",
       "      <td>-79.360636</td>\n",
       "    </tr>\n",
       "    <tr>\n",
       "      <th>3</th>\n",
       "      <td>M6A</td>\n",
       "      <td>North York</td>\n",
       "      <td>Lawrence Manor, Lawrence Heights</td>\n",
       "      <td>43.718518</td>\n",
       "      <td>-79.464763</td>\n",
       "    </tr>\n",
       "    <tr>\n",
       "      <th>4</th>\n",
       "      <td>M7A</td>\n",
       "      <td>Downtown Toronto</td>\n",
       "      <td>Queen's Park, Ontario Provincial Government</td>\n",
       "      <td>43.662301</td>\n",
       "      <td>-79.389494</td>\n",
       "    </tr>\n",
       "    <tr>\n",
       "      <th>5</th>\n",
       "      <td>M9A</td>\n",
       "      <td>Etobicoke</td>\n",
       "      <td>Islington Avenue, Humber Valley Village</td>\n",
       "      <td>43.667856</td>\n",
       "      <td>-79.532242</td>\n",
       "    </tr>\n",
       "    <tr>\n",
       "      <th>6</th>\n",
       "      <td>M1B</td>\n",
       "      <td>Scarborough</td>\n",
       "      <td>Malvern, Rouge</td>\n",
       "      <td>43.806686</td>\n",
       "      <td>-79.194353</td>\n",
       "    </tr>\n",
       "    <tr>\n",
       "      <th>7</th>\n",
       "      <td>M3B</td>\n",
       "      <td>North York</td>\n",
       "      <td>Don Mills</td>\n",
       "      <td>43.745906</td>\n",
       "      <td>-79.352188</td>\n",
       "    </tr>\n",
       "    <tr>\n",
       "      <th>8</th>\n",
       "      <td>M4B</td>\n",
       "      <td>East York</td>\n",
       "      <td>Parkview Hill, Woodbine Gardens</td>\n",
       "      <td>43.706397</td>\n",
       "      <td>-79.309937</td>\n",
       "    </tr>\n",
       "    <tr>\n",
       "      <th>9</th>\n",
       "      <td>M5B</td>\n",
       "      <td>Downtown Toronto</td>\n",
       "      <td>Garden District, Ryerson</td>\n",
       "      <td>43.657162</td>\n",
       "      <td>-79.378937</td>\n",
       "    </tr>\n",
       "    <tr>\n",
       "      <th>10</th>\n",
       "      <td>M6B</td>\n",
       "      <td>North York</td>\n",
       "      <td>Glencairn</td>\n",
       "      <td>43.709577</td>\n",
       "      <td>-79.445073</td>\n",
       "    </tr>\n",
       "    <tr>\n",
       "      <th>11</th>\n",
       "      <td>M9B</td>\n",
       "      <td>Etobicoke</td>\n",
       "      <td>West Deane Park, Princess Gardens, Martin Grov...</td>\n",
       "      <td>43.650943</td>\n",
       "      <td>-79.554724</td>\n",
       "    </tr>\n",
       "  </tbody>\n",
       "</table>\n",
       "</div>"
      ],
      "text/plain": [
       "   Postal Code           Borough  \\\n",
       "0          M3A        North York   \n",
       "1          M4A        North York   \n",
       "2          M5A  Downtown Toronto   \n",
       "3          M6A        North York   \n",
       "4          M7A  Downtown Toronto   \n",
       "5          M9A         Etobicoke   \n",
       "6          M1B       Scarborough   \n",
       "7          M3B        North York   \n",
       "8          M4B         East York   \n",
       "9          M5B  Downtown Toronto   \n",
       "10         M6B        North York   \n",
       "11         M9B         Etobicoke   \n",
       "\n",
       "                                        Neighbourhood   Latitude  Longitude  \n",
       "0                                           Parkwoods  43.753259 -79.329656  \n",
       "1                                    Victoria Village  43.725882 -79.315572  \n",
       "2                           Regent Park, Harbourfront  43.654260 -79.360636  \n",
       "3                    Lawrence Manor, Lawrence Heights  43.718518 -79.464763  \n",
       "4         Queen's Park, Ontario Provincial Government  43.662301 -79.389494  \n",
       "5             Islington Avenue, Humber Valley Village  43.667856 -79.532242  \n",
       "6                                      Malvern, Rouge  43.806686 -79.194353  \n",
       "7                                           Don Mills  43.745906 -79.352188  \n",
       "8                     Parkview Hill, Woodbine Gardens  43.706397 -79.309937  \n",
       "9                            Garden District, Ryerson  43.657162 -79.378937  \n",
       "10                                          Glencairn  43.709577 -79.445073  \n",
       "11  West Deane Park, Princess Gardens, Martin Grov...  43.650943 -79.554724  "
      ]
     },
     "execution_count": 18,
     "metadata": {},
     "output_type": "execute_result"
    }
   ],
   "source": [
    "latlng = pd.merge(df,geo_df, on='Postal Code', how='outer')\n",
    "\n",
    "latlng.head(12)"
   ]
  },
  {
   "cell_type": "markdown",
   "metadata": {},
   "source": [
    "## Question 3: Consider only Toronto Boroughs"
   ]
  },
  {
   "cell_type": "code",
   "execution_count": 19,
   "metadata": {},
   "outputs": [
    {
     "data": {
      "text/html": [
       "<div>\n",
       "<style scoped>\n",
       "    .dataframe tbody tr th:only-of-type {\n",
       "        vertical-align: middle;\n",
       "    }\n",
       "\n",
       "    .dataframe tbody tr th {\n",
       "        vertical-align: top;\n",
       "    }\n",
       "\n",
       "    .dataframe thead th {\n",
       "        text-align: right;\n",
       "    }\n",
       "</style>\n",
       "<table border=\"1\" class=\"dataframe\">\n",
       "  <thead>\n",
       "    <tr style=\"text-align: right;\">\n",
       "      <th></th>\n",
       "      <th>Postal Code</th>\n",
       "      <th>Borough</th>\n",
       "      <th>Neighbourhood</th>\n",
       "      <th>Latitude</th>\n",
       "      <th>Longitude</th>\n",
       "    </tr>\n",
       "  </thead>\n",
       "  <tbody>\n",
       "    <tr>\n",
       "      <th>0</th>\n",
       "      <td>M5A</td>\n",
       "      <td>Downtown Toronto</td>\n",
       "      <td>Regent Park, Harbourfront</td>\n",
       "      <td>43.654260</td>\n",
       "      <td>-79.360636</td>\n",
       "    </tr>\n",
       "    <tr>\n",
       "      <th>1</th>\n",
       "      <td>M7A</td>\n",
       "      <td>Downtown Toronto</td>\n",
       "      <td>Queen's Park, Ontario Provincial Government</td>\n",
       "      <td>43.662301</td>\n",
       "      <td>-79.389494</td>\n",
       "    </tr>\n",
       "    <tr>\n",
       "      <th>2</th>\n",
       "      <td>M5B</td>\n",
       "      <td>Downtown Toronto</td>\n",
       "      <td>Garden District, Ryerson</td>\n",
       "      <td>43.657162</td>\n",
       "      <td>-79.378937</td>\n",
       "    </tr>\n",
       "    <tr>\n",
       "      <th>3</th>\n",
       "      <td>M5C</td>\n",
       "      <td>Downtown Toronto</td>\n",
       "      <td>St. James Town</td>\n",
       "      <td>43.651494</td>\n",
       "      <td>-79.375418</td>\n",
       "    </tr>\n",
       "    <tr>\n",
       "      <th>4</th>\n",
       "      <td>M4E</td>\n",
       "      <td>East Toronto</td>\n",
       "      <td>The Beaches</td>\n",
       "      <td>43.676357</td>\n",
       "      <td>-79.293031</td>\n",
       "    </tr>\n",
       "  </tbody>\n",
       "</table>\n",
       "</div>"
      ],
      "text/plain": [
       "  Postal Code           Borough                                Neighbourhood  \\\n",
       "0         M5A  Downtown Toronto                    Regent Park, Harbourfront   \n",
       "1         M7A  Downtown Toronto  Queen's Park, Ontario Provincial Government   \n",
       "2         M5B  Downtown Toronto                     Garden District, Ryerson   \n",
       "3         M5C  Downtown Toronto                               St. James Town   \n",
       "4         M4E      East Toronto                                  The Beaches   \n",
       "\n",
       "    Latitude  Longitude  \n",
       "0  43.654260 -79.360636  \n",
       "1  43.662301 -79.389494  \n",
       "2  43.657162 -79.378937  \n",
       "3  43.651494 -79.375418  \n",
       "4  43.676357 -79.293031  "
      ]
     },
     "execution_count": 19,
     "metadata": {},
     "output_type": "execute_result"
    }
   ],
   "source": [
    "df_toronto = latlng[latlng['Borough'].str.contains(\"Toronto\")]\n",
    "df_toronto.reset_index(drop=True, inplace=True)\n",
    "df_toronto.head()"
   ]
  },
  {
   "cell_type": "markdown",
   "metadata": {},
   "source": [
    "#### Import necessary Libraries"
   ]
  },
  {
   "cell_type": "code",
   "execution_count": 20,
   "metadata": {},
   "outputs": [
    {
     "name": "stdout",
     "output_type": "stream",
     "text": [
      "Libraries imported.\n"
     ]
    }
   ],
   "source": [
    "# Matplotlib and associated plotting modules\n",
    "import matplotlib.cm as cm\n",
    "import matplotlib.colors as colors\n",
    "import numpy as np\n",
    "\n",
    "# import k-means from clustering stage\n",
    "from sklearn.cluster import KMeans\n",
    "\n",
    "import folium # map rendering library\n",
    "\n",
    "\n",
    "print('Libraries imported.')"
   ]
  },
  {
   "cell_type": "markdown",
   "metadata": {},
   "source": [
    "### Map Toronto Neighborhoods"
   ]
  },
  {
   "cell_type": "code",
   "execution_count": 21,
   "metadata": {},
   "outputs": [
    {
     "name": "stdout",
     "output_type": "stream",
     "text": [
      "The geograpical coordinate of Toronto are 43.7166, -79.3407.\n"
     ]
    },
    {
     "data": {
      "text/html": [
       "<div style=\"width:100%;\"><div style=\"position:relative;width:100%;height:0;padding-bottom:60%;\"><span style=\"color:#565656\">Make this Notebook Trusted to load map: File -> Trust Notebook</span><iframe src=\"about:blank\" style=\"position:absolute;width:100%;height:100%;left:0;top:0;border:none !important;\" data-html=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 onload=\"this.contentDocument.open();this.contentDocument.write(atob(this.getAttribute('data-html')));this.contentDocument.close();\" allowfullscreen webkitallowfullscreen mozallowfullscreen></iframe></div></div>"
      ],
      "text/plain": [
       "<folium.folium.Map at 0x1f85b64adc8>"
      ]
     },
     "execution_count": 21,
     "metadata": {},
     "output_type": "execute_result"
    }
   ],
   "source": [
    "address = 'Toronto, Canada'\n",
    "\n",
    "latitude = 43.7166\n",
    "longitude = -79.3407\n",
    "print('The geograpical coordinate of Toronto are {}, {}.'.format(latitude, longitude))\n",
    "\n",
    "map_toronto = folium.Map(location=[latitude, longitude], zoom_start=11)\n",
    "\n",
    "# add markers to map\n",
    "for lat, lng, borough, neighborhood in zip(df_toronto['Latitude'], df_toronto['Longitude'], df_toronto['Borough'], df_toronto['Neighbourhood']):\n",
    "    label = '{}, {}'.format(neighborhood, borough)\n",
    "    label = folium.Popup(label, parse_html=True)\n",
    "    folium.CircleMarker(\n",
    "        [lat, lng],\n",
    "        radius=5,\n",
    "        popup=label,\n",
    "        color='blue',\n",
    "        fill=True,\n",
    "        fill_color='#3186cc',\n",
    "        fill_opacity=0.7,\n",
    "        parse_html=False).add_to(map_toronto)  \n",
    "\n",
    "map_toronto"
   ]
  },
  {
   "cell_type": "markdown",
   "metadata": {},
   "source": [
    "### Cluster Neighborhoods"
   ]
  },
  {
   "cell_type": "code",
   "execution_count": 22,
   "metadata": {},
   "outputs": [
    {
     "data": {
      "text/plain": [
       "array([0, 0, 0, 0, 1, 0, 0, 3, 0, 2])"
      ]
     },
     "execution_count": 22,
     "metadata": {},
     "output_type": "execute_result"
    }
   ],
   "source": [
    "# set number of clusters\n",
    "kclusters = 5\n",
    "\n",
    "toronto_grouped_clustering = df_toronto.loc[:,['Latitude','Longitude']] #consider only longitude and latitude\n",
    "                                 \n",
    "# run k-means clustering\n",
    "kmeans = KMeans(n_clusters=kclusters, random_state=0).fit(toronto_grouped_clustering)\n",
    "\n",
    "# check cluster labels generated for each row in the dataframe\n",
    "kmeans.labels_[0:10]"
   ]
  },
  {
   "cell_type": "code",
   "execution_count": 23,
   "metadata": {},
   "outputs": [
    {
     "data": {
      "text/html": [
       "<div>\n",
       "<style scoped>\n",
       "    .dataframe tbody tr th:only-of-type {\n",
       "        vertical-align: middle;\n",
       "    }\n",
       "\n",
       "    .dataframe tbody tr th {\n",
       "        vertical-align: top;\n",
       "    }\n",
       "\n",
       "    .dataframe thead th {\n",
       "        text-align: right;\n",
       "    }\n",
       "</style>\n",
       "<table border=\"1\" class=\"dataframe\">\n",
       "  <thead>\n",
       "    <tr style=\"text-align: right;\">\n",
       "      <th></th>\n",
       "      <th>Cluster Labels</th>\n",
       "      <th>Postal Code</th>\n",
       "      <th>Borough</th>\n",
       "      <th>Neighbourhood</th>\n",
       "      <th>Latitude</th>\n",
       "      <th>Longitude</th>\n",
       "    </tr>\n",
       "  </thead>\n",
       "  <tbody>\n",
       "    <tr>\n",
       "      <th>0</th>\n",
       "      <td>0</td>\n",
       "      <td>M5A</td>\n",
       "      <td>Downtown Toronto</td>\n",
       "      <td>Regent Park, Harbourfront</td>\n",
       "      <td>43.654260</td>\n",
       "      <td>-79.360636</td>\n",
       "    </tr>\n",
       "    <tr>\n",
       "      <th>1</th>\n",
       "      <td>0</td>\n",
       "      <td>M7A</td>\n",
       "      <td>Downtown Toronto</td>\n",
       "      <td>Queen's Park, Ontario Provincial Government</td>\n",
       "      <td>43.662301</td>\n",
       "      <td>-79.389494</td>\n",
       "    </tr>\n",
       "    <tr>\n",
       "      <th>2</th>\n",
       "      <td>0</td>\n",
       "      <td>M5B</td>\n",
       "      <td>Downtown Toronto</td>\n",
       "      <td>Garden District, Ryerson</td>\n",
       "      <td>43.657162</td>\n",
       "      <td>-79.378937</td>\n",
       "    </tr>\n",
       "    <tr>\n",
       "      <th>3</th>\n",
       "      <td>0</td>\n",
       "      <td>M5C</td>\n",
       "      <td>Downtown Toronto</td>\n",
       "      <td>St. James Town</td>\n",
       "      <td>43.651494</td>\n",
       "      <td>-79.375418</td>\n",
       "    </tr>\n",
       "    <tr>\n",
       "      <th>4</th>\n",
       "      <td>1</td>\n",
       "      <td>M4E</td>\n",
       "      <td>East Toronto</td>\n",
       "      <td>The Beaches</td>\n",
       "      <td>43.676357</td>\n",
       "      <td>-79.293031</td>\n",
       "    </tr>\n",
       "  </tbody>\n",
       "</table>\n",
       "</div>"
      ],
      "text/plain": [
       "   Cluster Labels Postal Code           Borough  \\\n",
       "0               0         M5A  Downtown Toronto   \n",
       "1               0         M7A  Downtown Toronto   \n",
       "2               0         M5B  Downtown Toronto   \n",
       "3               0         M5C  Downtown Toronto   \n",
       "4               1         M4E      East Toronto   \n",
       "\n",
       "                                 Neighbourhood   Latitude  Longitude  \n",
       "0                    Regent Park, Harbourfront  43.654260 -79.360636  \n",
       "1  Queen's Park, Ontario Provincial Government  43.662301 -79.389494  \n",
       "2                     Garden District, Ryerson  43.657162 -79.378937  \n",
       "3                               St. James Town  43.651494 -79.375418  \n",
       "4                                  The Beaches  43.676357 -79.293031  "
      ]
     },
     "execution_count": 23,
     "metadata": {},
     "output_type": "execute_result"
    }
   ],
   "source": [
    "# add clustering labels to dataframe\n",
    "df_toronto.insert(0, 'Cluster Labels', kmeans.labels_)\n",
    "df_toronto.head()"
   ]
  },
  {
   "cell_type": "markdown",
   "metadata": {},
   "source": [
    "### Generate clusterized map"
   ]
  },
  {
   "cell_type": "code",
   "execution_count": 24,
   "metadata": {},
   "outputs": [
    {
     "data": {
      "text/html": [
       "<div style=\"width:100%;\"><div style=\"position:relative;width:100%;height:0;padding-bottom:60%;\"><span style=\"color:#565656\">Make this Notebook Trusted to load map: File -> Trust Notebook</span><iframe src=\"about:blank\" style=\"position:absolute;width:100%;height:100%;left:0;top:0;border:none !important;\" data-html=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 onload=\"this.contentDocument.open();this.contentDocument.write(atob(this.getAttribute('data-html')));this.contentDocument.close();\" allowfullscreen webkitallowfullscreen mozallowfullscreen></iframe></div></div>"
      ],
      "text/plain": [
       "<folium.folium.Map at 0x1f85b6ff9c8>"
      ]
     },
     "execution_count": 24,
     "metadata": {},
     "output_type": "execute_result"
    }
   ],
   "source": [
    "# create map\n",
    "map_clusters = folium.Map(location=[latitude, longitude], zoom_start=11)\n",
    "\n",
    "# set color scheme for the clusters\n",
    "x = np.arange(kclusters)\n",
    "ys = [i + x + (i*x)**2 for i in range(kclusters)]\n",
    "colors_array = cm.rainbow(np.linspace(0, 1, len(ys)))\n",
    "rainbow = [colors.rgb2hex(i) for i in colors_array]\n",
    "\n",
    "# add markers to the map\n",
    "markers_colors = []\n",
    "for lat, lon, poi, cluster in zip(df_toronto['Latitude'], df_toronto['Longitude'], df_toronto['Neighbourhood'], df_toronto['Cluster Labels']):\n",
    "    label = folium.Popup(str(poi) + ' Cluster ' + str(cluster), parse_html=True)\n",
    "    folium.CircleMarker(\n",
    "        [lat, lon],\n",
    "        radius=5,\n",
    "        popup=label,\n",
    "        color=rainbow[cluster-1],\n",
    "        fill=True,\n",
    "        fill_color=rainbow[cluster-1],\n",
    "        fill_opacity=0.7).add_to(map_clusters)\n",
    "       \n",
    "map_clusters"
   ]
  },
  {
   "cell_type": "code",
   "execution_count": null,
   "metadata": {},
   "outputs": [],
   "source": []
  }
 ],
 "metadata": {
  "kernelspec": {
   "display_name": "Python 3",
   "language": "python",
   "name": "python3"
  },
  "language_info": {
   "codemirror_mode": {
    "name": "ipython",
    "version": 3
   },
   "file_extension": ".py",
   "mimetype": "text/x-python",
   "name": "python",
   "nbconvert_exporter": "python",
   "pygments_lexer": "ipython3",
   "version": "3.7.4"
  }
 },
 "nbformat": 4,
 "nbformat_minor": 4
}
